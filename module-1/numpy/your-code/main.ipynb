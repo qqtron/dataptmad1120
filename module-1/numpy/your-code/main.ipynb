{
 "cells": [
  {
   "cell_type": "markdown",
   "metadata": {},
   "source": [
    "# Introduction to NumPy\n",
    "\n",
    "\n",
    "#### 1. Import NumPy under the name np."
   ]
  },
  {
   "cell_type": "code",
   "execution_count": 2,
   "metadata": {},
   "outputs": [],
   "source": [
    "# your code here\n",
    "\n",
    "import numpy as np"
   ]
  },
  {
   "cell_type": "markdown",
   "metadata": {},
   "source": [
    "#### 2. Print your NumPy version."
   ]
  },
  {
   "cell_type": "code",
   "execution_count": 3,
   "metadata": {},
   "outputs": [
    {
     "name": "stdout",
     "output_type": "stream",
     "text": [
      "1.19.4\n"
     ]
    }
   ],
   "source": [
    "# your code here\n",
    "\n",
    "print(np.__version__)\n"
   ]
  },
  {
   "cell_type": "markdown",
   "metadata": {},
   "source": [
    "#### 3. Generate a 2x3x5 3-dimensional array with random values. Assign the array to variable *a*.\n",
    "**Challenge**: there are at least three easy ways that use numpy to generate random arrays. How many ways can you find?"
   ]
  },
  {
   "cell_type": "code",
   "execution_count": 4,
   "metadata": {},
   "outputs": [
    {
     "data": {
      "text/plain": [
       "array([[[4.31061749e-01, 5.79459107e-01, 7.08855508e-05, 3.51678064e-01,\n",
       "         6.04428986e-01],\n",
       "        [7.78548582e-01, 9.40460048e-02, 7.31851775e-01, 5.94180842e-01,\n",
       "         8.44714129e-01],\n",
       "        [7.59994289e-01, 1.98865608e-01, 4.11099891e-01, 8.61008539e-01,\n",
       "         4.58983672e-01]],\n",
       "\n",
       "       [[3.91911166e-01, 6.58020518e-01, 7.14018239e-02, 5.48456401e-01,\n",
       "         3.62687339e-01],\n",
       "        [9.31261915e-01, 6.83328175e-01, 8.88415406e-01, 7.50191653e-02,\n",
       "         3.26510705e-01],\n",
       "        [6.05053886e-01, 6.87545790e-01, 7.25920643e-01, 1.53900018e-01,\n",
       "         3.44126720e-01]]])"
      ]
     },
     "execution_count": 4,
     "metadata": {},
     "output_type": "execute_result"
    }
   ],
   "source": [
    "# Method 1\n",
    "\n",
    "a = np.random.random((2,3,5))\n",
    "\n",
    "a"
   ]
  },
  {
   "cell_type": "code",
   "execution_count": 5,
   "metadata": {},
   "outputs": [
    {
     "data": {
      "text/plain": [
       "array([[[13, 25, 40, 39, 25],\n",
       "        [68, 38,  6, 72, 32],\n",
       "        [27,  8, 85, 39, 83]],\n",
       "\n",
       "       [[12, 85, 64, 22, 87],\n",
       "        [41, 11, 97, 60, 41],\n",
       "        [73, 92, 52,  2, 77]]])"
      ]
     },
     "execution_count": 5,
     "metadata": {},
     "output_type": "execute_result"
    }
   ],
   "source": [
    "# Method 2\n",
    "\n",
    "np.random.randint(low=0, high=100, size=(2,3,5))"
   ]
  },
  {
   "cell_type": "code",
   "execution_count": 6,
   "metadata": {},
   "outputs": [
    {
     "data": {
      "text/plain": [
       "array([[[0, 3, 0, 3, 0],\n",
       "        [3, 0, 3, 3, 3],\n",
       "        [3, 0, 3, 3, 0]],\n",
       "\n",
       "       [[3, 0, 3, 0, 3],\n",
       "        [3, 3, 3, 3, 3],\n",
       "        [3, 0, 3, 3, 0]]])"
      ]
     },
     "execution_count": 6,
     "metadata": {},
     "output_type": "execute_result"
    }
   ],
   "source": [
    "# Method 3\n",
    "\n",
    "np.random.choice([0, 3], size = (2,3,5) ,p = [0.3,0.7])"
   ]
  },
  {
   "cell_type": "markdown",
   "metadata": {},
   "source": [
    "#### 4. Print *a*.\n"
   ]
  },
  {
   "cell_type": "code",
   "execution_count": 7,
   "metadata": {},
   "outputs": [
    {
     "name": "stdout",
     "output_type": "stream",
     "text": [
      "[[[4.31061749e-01 5.79459107e-01 7.08855508e-05 3.51678064e-01\n",
      "   6.04428986e-01]\n",
      "  [7.78548582e-01 9.40460048e-02 7.31851775e-01 5.94180842e-01\n",
      "   8.44714129e-01]\n",
      "  [7.59994289e-01 1.98865608e-01 4.11099891e-01 8.61008539e-01\n",
      "   4.58983672e-01]]\n",
      "\n",
      " [[3.91911166e-01 6.58020518e-01 7.14018239e-02 5.48456401e-01\n",
      "   3.62687339e-01]\n",
      "  [9.31261915e-01 6.83328175e-01 8.88415406e-01 7.50191653e-02\n",
      "   3.26510705e-01]\n",
      "  [6.05053886e-01 6.87545790e-01 7.25920643e-01 1.53900018e-01\n",
      "   3.44126720e-01]]]\n"
     ]
    }
   ],
   "source": [
    "# your code here\n",
    "\n",
    "print(a)\n"
   ]
  },
  {
   "cell_type": "markdown",
   "metadata": {},
   "source": [
    "#### 5. Create a 5x2x3 3-dimensional array with all values equaling 1. Assign the array to variable *b*."
   ]
  },
  {
   "cell_type": "code",
   "execution_count": 8,
   "metadata": {},
   "outputs": [],
   "source": [
    "# your code here\n",
    "\n",
    "b = np.ones((5,2,3))\n"
   ]
  },
  {
   "cell_type": "markdown",
   "metadata": {},
   "source": [
    "#### 6. Print *b*.\n"
   ]
  },
  {
   "cell_type": "code",
   "execution_count": 9,
   "metadata": {},
   "outputs": [
    {
     "name": "stdout",
     "output_type": "stream",
     "text": [
      "[[[1. 1. 1.]\n",
      "  [1. 1. 1.]]\n",
      "\n",
      " [[1. 1. 1.]\n",
      "  [1. 1. 1.]]\n",
      "\n",
      " [[1. 1. 1.]\n",
      "  [1. 1. 1.]]\n",
      "\n",
      " [[1. 1. 1.]\n",
      "  [1. 1. 1.]]\n",
      "\n",
      " [[1. 1. 1.]\n",
      "  [1. 1. 1.]]]\n"
     ]
    }
   ],
   "source": [
    "# your code here\n",
    "\n",
    "print(b)\n"
   ]
  },
  {
   "cell_type": "markdown",
   "metadata": {},
   "source": [
    "#### 7. Do *a* and *b* have the same size? How do you prove that in Python code?"
   ]
  },
  {
   "cell_type": "code",
   "execution_count": 10,
   "metadata": {},
   "outputs": [
    {
     "name": "stdout",
     "output_type": "stream",
     "text": [
      "a and b have the same size: a = 30 and b = 30\n"
     ]
    }
   ],
   "source": [
    "# your code here\n",
    "\n",
    "if a.size == b.size:\n",
    "    print(f'a and b have the same size: a = {a.size} and b = {b.size}')\n",
    "else:\n",
    "    print(f'a and b have not the same size: a= {a.size} b = {b.size}')\n"
   ]
  },
  {
   "cell_type": "markdown",
   "metadata": {},
   "source": [
    "#### 8. Are you able to add *a* and *b*? Why or why not?\n"
   ]
  },
  {
   "cell_type": "code",
   "execution_count": 11,
   "metadata": {},
   "outputs": [
    {
     "ename": "ValueError",
     "evalue": "operands could not be broadcast together with shapes (2,3,5) (5,2,3) ",
     "output_type": "error",
     "traceback": [
      "\u001b[0;31m---------------------------------------------------------------------------\u001b[0m",
      "\u001b[0;31mValueError\u001b[0m                                Traceback (most recent call last)",
      "\u001b[0;32m<ipython-input-11-efe83b874007>\u001b[0m in \u001b[0;36m<module>\u001b[0;34m\u001b[0m\n\u001b[1;32m      1\u001b[0m \u001b[0;31m# your answer here\u001b[0m\u001b[0;34m\u001b[0m\u001b[0;34m\u001b[0m\u001b[0;34m\u001b[0m\u001b[0m\n\u001b[1;32m      2\u001b[0m \u001b[0;34m\u001b[0m\u001b[0m\n\u001b[0;32m----> 3\u001b[0;31m \u001b[0mnp\u001b[0m\u001b[0;34m.\u001b[0m\u001b[0madd\u001b[0m\u001b[0;34m(\u001b[0m\u001b[0ma\u001b[0m\u001b[0;34m,\u001b[0m\u001b[0mb\u001b[0m\u001b[0;34m)\u001b[0m\u001b[0;34m\u001b[0m\u001b[0;34m\u001b[0m\u001b[0m\n\u001b[0m\u001b[1;32m      4\u001b[0m \u001b[0;34m\u001b[0m\u001b[0m\n\u001b[1;32m      5\u001b[0m \u001b[0;31m# We can't add a to b because the arrays have not the same shape.\u001b[0m\u001b[0;34m\u001b[0m\u001b[0;34m\u001b[0m\u001b[0;34m\u001b[0m\u001b[0m\n",
      "\u001b[0;31mValueError\u001b[0m: operands could not be broadcast together with shapes (2,3,5) (5,2,3) "
     ]
    }
   ],
   "source": [
    "# your answer here\n",
    "\n",
    "np.add(a,b)\n",
    "\n",
    "# We can't add a to b because the arrays have not the same shape."
   ]
  },
  {
   "cell_type": "markdown",
   "metadata": {},
   "source": [
    "#### 9. Transpose *b* so that it has the same structure of *a* (i.e. become a 2x3x5 array). Assign the transposed array to variable *c*."
   ]
  },
  {
   "cell_type": "code",
   "execution_count": 12,
   "metadata": {},
   "outputs": [
    {
     "data": {
      "text/plain": [
       "array([[[1., 1., 1., 1., 1.],\n",
       "        [1., 1., 1., 1., 1.],\n",
       "        [1., 1., 1., 1., 1.]],\n",
       "\n",
       "       [[1., 1., 1., 1., 1.],\n",
       "        [1., 1., 1., 1., 1.],\n",
       "        [1., 1., 1., 1., 1.]]])"
      ]
     },
     "execution_count": 12,
     "metadata": {},
     "output_type": "execute_result"
    }
   ],
   "source": [
    "# your code here\n",
    "\n",
    "c = b.reshape(2,3,5)\n",
    "\n",
    "c"
   ]
  },
  {
   "cell_type": "markdown",
   "metadata": {},
   "source": [
    "#### 10. Try to add *a* and *c*. Now it should work. Assign the sum to variable *d*. But why does it work now?"
   ]
  },
  {
   "cell_type": "code",
   "execution_count": 13,
   "metadata": {},
   "outputs": [
    {
     "data": {
      "text/plain": [
       "array([[[1.43106175, 1.57945911, 1.00007089, 1.35167806, 1.60442899],\n",
       "        [1.77854858, 1.094046  , 1.73185178, 1.59418084, 1.84471413],\n",
       "        [1.75999429, 1.19886561, 1.41109989, 1.86100854, 1.45898367]],\n",
       "\n",
       "       [[1.39191117, 1.65802052, 1.07140182, 1.5484564 , 1.36268734],\n",
       "        [1.93126191, 1.68332817, 1.88841541, 1.07501917, 1.32651071],\n",
       "        [1.60505389, 1.68754579, 1.72592064, 1.15390002, 1.34412672]]])"
      ]
     },
     "execution_count": 13,
     "metadata": {},
     "output_type": "execute_result"
    }
   ],
   "source": [
    "# your code/answer here\n",
    "\n",
    "d = np.add(a,c)\n",
    "\n",
    "d\n",
    "\n",
    "#They work because a and c have the same shape."
   ]
  },
  {
   "cell_type": "markdown",
   "metadata": {},
   "source": [
    "#### 11. Print *a* and *d*. Notice the difference and relation of the two array in terms of the values? Explain."
   ]
  },
  {
   "cell_type": "code",
   "execution_count": 14,
   "metadata": {},
   "outputs": [
    {
     "name": "stdout",
     "output_type": "stream",
     "text": [
      "[[[4.31061749e-01 5.79459107e-01 7.08855508e-05 3.51678064e-01\n",
      "   6.04428986e-01]\n",
      "  [7.78548582e-01 9.40460048e-02 7.31851775e-01 5.94180842e-01\n",
      "   8.44714129e-01]\n",
      "  [7.59994289e-01 1.98865608e-01 4.11099891e-01 8.61008539e-01\n",
      "   4.58983672e-01]]\n",
      "\n",
      " [[3.91911166e-01 6.58020518e-01 7.14018239e-02 5.48456401e-01\n",
      "   3.62687339e-01]\n",
      "  [9.31261915e-01 6.83328175e-01 8.88415406e-01 7.50191653e-02\n",
      "   3.26510705e-01]\n",
      "  [6.05053886e-01 6.87545790e-01 7.25920643e-01 1.53900018e-01\n",
      "   3.44126720e-01]]]\n",
      "[[[1.43106175 1.57945911 1.00007089 1.35167806 1.60442899]\n",
      "  [1.77854858 1.094046   1.73185178 1.59418084 1.84471413]\n",
      "  [1.75999429 1.19886561 1.41109989 1.86100854 1.45898367]]\n",
      "\n",
      " [[1.39191117 1.65802052 1.07140182 1.5484564  1.36268734]\n",
      "  [1.93126191 1.68332817 1.88841541 1.07501917 1.32651071]\n",
      "  [1.60505389 1.68754579 1.72592064 1.15390002 1.34412672]]]\n"
     ]
    },
    {
     "data": {
      "text/plain": [
       "array([[[1., 1., 1., 1., 1.],\n",
       "        [1., 1., 1., 1., 1.],\n",
       "        [1., 1., 1., 1., 1.]],\n",
       "\n",
       "       [[1., 1., 1., 1., 1.],\n",
       "        [1., 1., 1., 1., 1.],\n",
       "        [1., 1., 1., 1., 1.]]])"
      ]
     },
     "execution_count": 14,
     "metadata": {},
     "output_type": "execute_result"
    }
   ],
   "source": [
    "# your code/answer here\n",
    "\n",
    "print(a)\n",
    "print(d)\n",
    "\n",
    "d - a \n",
    "\n",
    "# We have added the values of a into the first value of d. \n",
    "# The difference is 1.\n"
   ]
  },
  {
   "cell_type": "markdown",
   "metadata": {},
   "source": [
    "#### 12. Multiply *a* and *c*. Assign the result to *e*."
   ]
  },
  {
   "cell_type": "code",
   "execution_count": 15,
   "metadata": {},
   "outputs": [
    {
     "data": {
      "text/plain": [
       "array([[[4.31061749e-01, 5.79459107e-01, 7.08855508e-05, 3.51678064e-01,\n",
       "         6.04428986e-01],\n",
       "        [7.78548582e-01, 9.40460048e-02, 7.31851775e-01, 5.94180842e-01,\n",
       "         8.44714129e-01],\n",
       "        [7.59994289e-01, 1.98865608e-01, 4.11099891e-01, 8.61008539e-01,\n",
       "         4.58983672e-01]],\n",
       "\n",
       "       [[3.91911166e-01, 6.58020518e-01, 7.14018239e-02, 5.48456401e-01,\n",
       "         3.62687339e-01],\n",
       "        [9.31261915e-01, 6.83328175e-01, 8.88415406e-01, 7.50191653e-02,\n",
       "         3.26510705e-01],\n",
       "        [6.05053886e-01, 6.87545790e-01, 7.25920643e-01, 1.53900018e-01,\n",
       "         3.44126720e-01]]])"
      ]
     },
     "execution_count": 15,
     "metadata": {},
     "output_type": "execute_result"
    }
   ],
   "source": [
    "# your code here\n",
    "\n",
    "\n",
    "e = a * c\n",
    "\n",
    "e\n"
   ]
  },
  {
   "cell_type": "markdown",
   "metadata": {},
   "source": [
    "#### 13. Does *e* equal to *a*? Why or why not?\n"
   ]
  },
  {
   "cell_type": "code",
   "execution_count": 16,
   "metadata": {},
   "outputs": [
    {
     "name": "stdout",
     "output_type": "stream",
     "text": [
      "[[[4.31061749e-01 5.79459107e-01 7.08855508e-05 3.51678064e-01\n",
      "   6.04428986e-01]\n",
      "  [7.78548582e-01 9.40460048e-02 7.31851775e-01 5.94180842e-01\n",
      "   8.44714129e-01]\n",
      "  [7.59994289e-01 1.98865608e-01 4.11099891e-01 8.61008539e-01\n",
      "   4.58983672e-01]]\n",
      "\n",
      " [[3.91911166e-01 6.58020518e-01 7.14018239e-02 5.48456401e-01\n",
      "   3.62687339e-01]\n",
      "  [9.31261915e-01 6.83328175e-01 8.88415406e-01 7.50191653e-02\n",
      "   3.26510705e-01]\n",
      "  [6.05053886e-01 6.87545790e-01 7.25920643e-01 1.53900018e-01\n",
      "   3.44126720e-01]]]\n",
      "[[[4.31061749e-01 5.79459107e-01 7.08855508e-05 3.51678064e-01\n",
      "   6.04428986e-01]\n",
      "  [7.78548582e-01 9.40460048e-02 7.31851775e-01 5.94180842e-01\n",
      "   8.44714129e-01]\n",
      "  [7.59994289e-01 1.98865608e-01 4.11099891e-01 8.61008539e-01\n",
      "   4.58983672e-01]]\n",
      "\n",
      " [[3.91911166e-01 6.58020518e-01 7.14018239e-02 5.48456401e-01\n",
      "   3.62687339e-01]\n",
      "  [9.31261915e-01 6.83328175e-01 8.88415406e-01 7.50191653e-02\n",
      "   3.26510705e-01]\n",
      "  [6.05053886e-01 6.87545790e-01 7.25920643e-01 1.53900018e-01\n",
      "   3.44126720e-01]]]\n"
     ]
    }
   ],
   "source": [
    "# your code/answer here\n",
    "    \n",
    "print(a)\n",
    "print(e)\n",
    "\n",
    "# They are equal because when you multiple an array by 1 you got the same array. "
   ]
  },
  {
   "cell_type": "markdown",
   "metadata": {},
   "source": [
    "#### 14. Identify the max, min, and mean values in *d*. Assign those values to variables *d_max*, *d_min* and *d_mean*."
   ]
  },
  {
   "cell_type": "code",
   "execution_count": 17,
   "metadata": {},
   "outputs": [
    {
     "name": "stdout",
     "output_type": "stream",
     "text": [
      "[[[1.43106175 1.57945911 1.00007089 1.35167806 1.60442899]\n",
      "  [1.77854858 1.094046   1.73185178 1.59418084 1.84471413]\n",
      "  [1.75999429 1.19886561 1.41109989 1.86100854 1.45898367]]\n",
      "\n",
      " [[1.39191117 1.65802052 1.07140182 1.5484564  1.36268734]\n",
      "  [1.93126191 1.68332817 1.88841541 1.07501917 1.32651071]\n",
      "  [1.60505389 1.68754579 1.72592064 1.15390002 1.34412672]]]\n",
      "The max value of d is: 1.9312619148947654\n",
      "The min value of d is: 1.000070885550761\n",
      "The mean value of d is: 1.5051183931832497\n"
     ]
    }
   ],
   "source": [
    "# your code here\n",
    "\n",
    "max_value = d.max()\n",
    "min_value = d.min()\n",
    "mean_value = d.mean()\n",
    "\n",
    "print(d)\n",
    "\n",
    "print(f'The max value of d is: {max_value}')\n",
    "print(f'The min value of d is: {min_value}')\n",
    "print(f'The mean value of d is: {mean_value}')\n"
   ]
  },
  {
   "cell_type": "markdown",
   "metadata": {},
   "source": [
    "#### 15. Now we want to label the values in *d*. First create an empty array *f* with the same shape (i.e. 2x3x5) as *d* using `np.empty`.\n"
   ]
  },
  {
   "cell_type": "code",
   "execution_count": 18,
   "metadata": {},
   "outputs": [
    {
     "data": {
      "text/plain": [
       "array([[[1.43106175, 1.57945911, 1.00007089, 1.35167806, 1.60442899],\n",
       "        [1.77854858, 1.094046  , 1.73185178, 1.59418084, 1.84471413],\n",
       "        [1.75999429, 1.19886561, 1.41109989, 1.86100854, 1.45898367]],\n",
       "\n",
       "       [[1.39191117, 1.65802052, 1.07140182, 1.5484564 , 1.36268734],\n",
       "        [1.93126191, 1.68332817, 1.88841541, 1.07501917, 1.32651071],\n",
       "        [1.60505389, 1.68754579, 1.72592064, 1.15390002, 1.34412672]]])"
      ]
     },
     "execution_count": 18,
     "metadata": {},
     "output_type": "execute_result"
    }
   ],
   "source": [
    "# your code here\n",
    "\n",
    "f = np.empty([2,3,5]) \n",
    "\n",
    "f"
   ]
  },
  {
   "cell_type": "markdown",
   "metadata": {},
   "source": [
    "#### 16. Populate the values in *f*. \n",
    "\n",
    "For each value in *d*, if it's larger than *d_min* but smaller than *d_mean*, assign 25 to the corresponding value in *f*. If a value in *d* is larger than *d_mean* but smaller than *d_max*, assign 75 to the corresponding value in *f*. If a value equals to *d_mean*, assign 50 to the corresponding value in *f*. Assign 0 to the corresponding value(s) in *f* for *d_min* in *d*. Assign 100 to the corresponding value(s) in *f* for *d_max* in *d*. In the end, f should have only the following values: 0, 25, 50, 75, and 100.\n",
    "\n",
    "**Note**: you don't have to use Numpy in this question."
   ]
  },
  {
   "cell_type": "code",
   "execution_count": 21,
   "metadata": {},
   "outputs": [],
   "source": [
    "list(d)\n",
    "list(f)\n",
    "for i in range(len(d)):\n",
    "    for x in range(len(d[i])):\n",
    "        for z in range(len(d[i][x])): \n",
    "            if((d[i][x][z]> min_value) & (d[i][x][z]< mean_value)):\n",
    "                f[i][x][z]=25\n",
    "            if((d[i][x][z]> mean_value) & (d[i][x][z]< max_value)):\n",
    "                f[i][x][z]=75\n",
    "            if(d[i][x][z]== mean_value):\n",
    "                f[i][x][z]=50\n",
    "            if(d[i][x][z]== min_value):\n",
    "                f[i][x][z]=0\n",
    "            if(d[i][x][z]== max_value):\n",
    "                f[i][x][z]=100\n",
    "f=np.array(f)\n",
    "            \n",
    "  "
   ]
  },
  {
   "cell_type": "code",
   "execution_count": 22,
   "metadata": {},
   "outputs": [
    {
     "name": "stdout",
     "output_type": "stream",
     "text": [
      "[[[1.43106175 1.57945911 1.00007089 1.35167806 1.60442899]\n",
      "  [1.77854858 1.094046   1.73185178 1.59418084 1.84471413]\n",
      "  [1.75999429 1.19886561 1.41109989 1.86100854 1.45898367]]\n",
      "\n",
      " [[1.39191117 1.65802052 1.07140182 1.5484564  1.36268734]\n",
      "  [1.93126191 1.68332817 1.88841541 1.07501917 1.32651071]\n",
      "  [1.60505389 1.68754579 1.72592064 1.15390002 1.34412672]]]\n",
      "[[[ 25.  75.   0.  25.  75.]\n",
      "  [ 75.  25.  75.  75.  75.]\n",
      "  [ 75.  25.  25.  75.  25.]]\n",
      "\n",
      " [[ 25.  75.  25.  75.  25.]\n",
      "  [100.  75.  75.  25.  25.]\n",
      "  [ 75.  75.  75.  25.  25.]]]\n"
     ]
    }
   ],
   "source": [
    "print(d)\n",
    "print(f)"
   ]
  },
  {
   "cell_type": "markdown",
   "metadata": {},
   "source": [
    "#### 17. Print *d* and *f*. Do you have your expected *f*?\n",
    "For instance, if your *d* is:\n",
    "```python\n",
    "[[[1.85836099, 1.67064465, 1.62576044, 1.40243961, 1.88454931],\n",
    "[1.75354326, 1.69403643, 1.36729252, 1.61415071, 1.12104981],\n",
    "[1.72201435, 1.1862918 , 1.87078449, 1.7726778 , 1.88180042]],\n",
    "[[1.44747908, 1.31673383, 1.02000951, 1.52218947, 1.97066381],\n",
    "[1.79129243, 1.74983003, 1.96028037, 1.85166831, 1.65450881],\n",
    "[1.18068344, 1.9587381 , 1.00656599, 1.93402165, 1.73514584]]]\n",
    "```\n",
    "Your *f* should be:\n",
    "```python\n",
    "[[[ 75.,  75.,  75.,  25.,  75.],\n",
    "[ 75.,  75.,  25.,  25.,  25.],\n",
    "[ 75.,  25.,  75.,  75.,  75.]],\n",
    "[[ 25.,  25.,  25.,  25., 100.],\n",
    "[ 75.,  75.,  75.,  75.,  75.],\n",
    "[ 25.,  75.,   0.,  75.,  75.]]]\n",
    "```"
   ]
  },
  {
   "cell_type": "code",
   "execution_count": null,
   "metadata": {},
   "outputs": [],
   "source": [
    "# your code here\n",
    "\n",
    "#yes I have my expected f"
   ]
  },
  {
   "cell_type": "markdown",
   "metadata": {},
   "source": [
    "#### 18. Bonus question: instead of using numbers (i.e. 0, 25, 50, 75, and 100), use string values  (\"A\", \"B\", \"C\", \"D\", and \"E\") to label the array elements. For the example above, the expected result is:\n",
    "\n",
    "```python\n",
    "[[[ 'D',  'D',  'D',  'B',  'D'],\n",
    "[ 'D',  'D',  'B',  'B',  'B'],\n",
    "[ 'D',  'B',  'D',  'D',  'D']],\n",
    "[[ 'B',  'B',  'B',  'B',  'E'],\n",
    "[ 'D',  'D',  'D',  'D',  'D'],\n",
    "[ 'B',  'D',   'A',  'D', 'D']]]\n",
    "```\n",
    "**Note**: you don't have to use Numpy in this question."
   ]
  },
  {
   "cell_type": "code",
   "execution_count": null,
   "metadata": {},
   "outputs": [],
   "source": [
    "# your code here"
   ]
  }
 ],
 "metadata": {
  "kernelspec": {
   "display_name": "Python [conda env:ironhack_env]",
   "language": "python",
   "name": "conda-env-ironhack_env-py"
  },
  "language_info": {
   "codemirror_mode": {
    "name": "ipython",
    "version": 3
   },
   "file_extension": ".py",
   "mimetype": "text/x-python",
   "name": "python",
   "nbconvert_exporter": "python",
   "pygments_lexer": "ipython3",
   "version": "3.8.6"
  }
 },
 "nbformat": 4,
 "nbformat_minor": 2
}
