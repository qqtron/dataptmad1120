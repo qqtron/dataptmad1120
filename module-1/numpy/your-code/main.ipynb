{
 "cells": [
  {
   "cell_type": "markdown",
   "metadata": {},
   "source": [
    "# Introduction to NumPy\n",
    "\n",
    "\n",
    "#### 1. Import NumPy under the name np."
   ]
  },
  {
   "cell_type": "code",
   "execution_count": 220,
   "metadata": {},
   "outputs": [],
   "source": [
    "# your code here\n",
    "\n",
    "import numpy as np"
   ]
  },
  {
   "cell_type": "markdown",
   "metadata": {},
   "source": [
    "#### 2. Print your NumPy version."
   ]
  },
  {
   "cell_type": "code",
   "execution_count": 221,
   "metadata": {},
   "outputs": [
    {
     "name": "stdout",
     "output_type": "stream",
     "text": [
      "1.19.4\n"
     ]
    }
   ],
   "source": [
    "# your code here\n",
    "\n",
    "print(np.__version__)\n"
   ]
  },
  {
   "cell_type": "markdown",
   "metadata": {},
   "source": [
    "#### 3. Generate a 2x3x5 3-dimensional array with random values. Assign the array to variable *a*.\n",
    "**Challenge**: there are at least three easy ways that use numpy to generate random arrays. How many ways can you find?"
   ]
  },
  {
   "cell_type": "code",
   "execution_count": 222,
   "metadata": {},
   "outputs": [
    {
     "data": {
      "text/plain": [
       "array([[[0.41876436, 0.50796352, 0.09184613, 0.1873685 , 0.86928603],\n",
       "        [0.36370655, 0.38415284, 0.45521715, 0.59166781, 0.53998157],\n",
       "        [0.80222552, 0.83877377, 0.62894386, 0.85594842, 0.8164326 ]],\n",
       "\n",
       "       [[0.39004479, 0.99228163, 0.66821821, 0.56523042, 0.70132764],\n",
       "        [0.79197178, 0.84908722, 0.53799334, 0.71713838, 0.48474854],\n",
       "        [0.75350211, 0.69879525, 0.52404209, 0.43449284, 0.12822115]]])"
      ]
     },
     "execution_count": 222,
     "metadata": {},
     "output_type": "execute_result"
    }
   ],
   "source": [
    "# Method 1\n",
    "\n",
    "a = np.random.random((2,3,5))\n",
    "\n",
    "a"
   ]
  },
  {
   "cell_type": "code",
   "execution_count": 223,
   "metadata": {},
   "outputs": [
    {
     "data": {
      "text/plain": [
       "array([[[ 8, 62, 31, 38, 56],\n",
       "        [94, 84, 39, 69, 49],\n",
       "        [89, 49, 89, 58, 93]],\n",
       "\n",
       "       [[38, 27, 99,  2, 40],\n",
       "        [ 7, 57, 66, 44, 82],\n",
       "        [39, 96, 18, 15, 16]]])"
      ]
     },
     "execution_count": 223,
     "metadata": {},
     "output_type": "execute_result"
    }
   ],
   "source": [
    "# Method 2\n",
    "\n",
    "np.random.randint(low=0, high=100, size=(2,3,5))"
   ]
  },
  {
   "cell_type": "code",
   "execution_count": 224,
   "metadata": {},
   "outputs": [
    {
     "data": {
      "text/plain": [
       "array([[[3, 3, 3, 3, 3],\n",
       "        [3, 3, 0, 3, 3],\n",
       "        [0, 3, 3, 3, 0]],\n",
       "\n",
       "       [[0, 3, 3, 3, 3],\n",
       "        [3, 3, 0, 3, 3],\n",
       "        [0, 3, 3, 0, 3]]])"
      ]
     },
     "execution_count": 224,
     "metadata": {},
     "output_type": "execute_result"
    }
   ],
   "source": [
    "# Method 3\n",
    "\n",
    "np.random.choice([0, 3], size = (2,3,5) ,p = [0.3,0.7])"
   ]
  },
  {
   "cell_type": "markdown",
   "metadata": {},
   "source": [
    "#### 4. Print *a*.\n"
   ]
  },
  {
   "cell_type": "code",
   "execution_count": 225,
   "metadata": {},
   "outputs": [
    {
     "name": "stdout",
     "output_type": "stream",
     "text": [
      "[[[0.41876436 0.50796352 0.09184613 0.1873685  0.86928603]\n",
      "  [0.36370655 0.38415284 0.45521715 0.59166781 0.53998157]\n",
      "  [0.80222552 0.83877377 0.62894386 0.85594842 0.8164326 ]]\n",
      "\n",
      " [[0.39004479 0.99228163 0.66821821 0.56523042 0.70132764]\n",
      "  [0.79197178 0.84908722 0.53799334 0.71713838 0.48474854]\n",
      "  [0.75350211 0.69879525 0.52404209 0.43449284 0.12822115]]]\n"
     ]
    }
   ],
   "source": [
    "# your code here\n",
    "\n",
    "print(a)\n"
   ]
  },
  {
   "cell_type": "markdown",
   "metadata": {},
   "source": [
    "#### 5. Create a 5x2x3 3-dimensional array with all values equaling 1. Assign the array to variable *b*."
   ]
  },
  {
   "cell_type": "code",
   "execution_count": 226,
   "metadata": {},
   "outputs": [],
   "source": [
    "# your code here\n",
    "\n",
    "b = np.ones((5,2,3))\n"
   ]
  },
  {
   "cell_type": "markdown",
   "metadata": {},
   "source": [
    "#### 6. Print *b*.\n"
   ]
  },
  {
   "cell_type": "code",
   "execution_count": 227,
   "metadata": {},
   "outputs": [
    {
     "name": "stdout",
     "output_type": "stream",
     "text": [
      "[[[1. 1. 1.]\n",
      "  [1. 1. 1.]]\n",
      "\n",
      " [[1. 1. 1.]\n",
      "  [1. 1. 1.]]\n",
      "\n",
      " [[1. 1. 1.]\n",
      "  [1. 1. 1.]]\n",
      "\n",
      " [[1. 1. 1.]\n",
      "  [1. 1. 1.]]\n",
      "\n",
      " [[1. 1. 1.]\n",
      "  [1. 1. 1.]]]\n"
     ]
    }
   ],
   "source": [
    "# your code here\n",
    "\n",
    "print(b)\n"
   ]
  },
  {
   "cell_type": "markdown",
   "metadata": {},
   "source": [
    "#### 7. Do *a* and *b* have the same size? How do you prove that in Python code?"
   ]
  },
  {
   "cell_type": "code",
   "execution_count": 228,
   "metadata": {},
   "outputs": [
    {
     "name": "stdout",
     "output_type": "stream",
     "text": [
      "a and b have the same size: a = 30 and b = 30\n"
     ]
    }
   ],
   "source": [
    "# your code here\n",
    "\n",
    "if a.size == b.size:\n",
    "    print(f'a and b have the same size: a = {a.size} and b = {b.size}')\n",
    "else:\n",
    "    print(f'a and b have not the same size: a= {a.size} b = {b.size}')\n"
   ]
  },
  {
   "cell_type": "markdown",
   "metadata": {},
   "source": [
    "#### 8. Are you able to add *a* and *b*? Why or why not?\n"
   ]
  },
  {
   "cell_type": "code",
   "execution_count": 229,
   "metadata": {},
   "outputs": [
    {
     "ename": "ValueError",
     "evalue": "operands could not be broadcast together with shapes (2,3,5) (5,2,3) ",
     "output_type": "error",
     "traceback": [
      "\u001b[0;31m---------------------------------------------------------------------------\u001b[0m",
      "\u001b[0;31mValueError\u001b[0m                                Traceback (most recent call last)",
      "\u001b[0;32m<ipython-input-229-efe83b874007>\u001b[0m in \u001b[0;36m<module>\u001b[0;34m\u001b[0m\n\u001b[1;32m      1\u001b[0m \u001b[0;31m# your answer here\u001b[0m\u001b[0;34m\u001b[0m\u001b[0;34m\u001b[0m\u001b[0;34m\u001b[0m\u001b[0m\n\u001b[1;32m      2\u001b[0m \u001b[0;34m\u001b[0m\u001b[0m\n\u001b[0;32m----> 3\u001b[0;31m \u001b[0mnp\u001b[0m\u001b[0;34m.\u001b[0m\u001b[0madd\u001b[0m\u001b[0;34m(\u001b[0m\u001b[0ma\u001b[0m\u001b[0;34m,\u001b[0m\u001b[0mb\u001b[0m\u001b[0;34m)\u001b[0m\u001b[0;34m\u001b[0m\u001b[0;34m\u001b[0m\u001b[0m\n\u001b[0m\u001b[1;32m      4\u001b[0m \u001b[0;34m\u001b[0m\u001b[0m\n\u001b[1;32m      5\u001b[0m \u001b[0;31m# We can't add a to b because the arrays have not the same shape.\u001b[0m\u001b[0;34m\u001b[0m\u001b[0;34m\u001b[0m\u001b[0;34m\u001b[0m\u001b[0m\n",
      "\u001b[0;31mValueError\u001b[0m: operands could not be broadcast together with shapes (2,3,5) (5,2,3) "
     ]
    }
   ],
   "source": [
    "# your answer here\n",
    "\n",
    "np.add(a,b)\n",
    "\n",
    "# We can't add a to b because the arrays have not the same shape."
   ]
  },
  {
   "cell_type": "markdown",
   "metadata": {},
   "source": [
    "#### 9. Transpose *b* so that it has the same structure of *a* (i.e. become a 2x3x5 array). Assign the transposed array to variable *c*."
   ]
  },
  {
   "cell_type": "code",
   "execution_count": 230,
   "metadata": {},
   "outputs": [
    {
     "data": {
      "text/plain": [
       "array([[[1., 1., 1., 1., 1.],\n",
       "        [1., 1., 1., 1., 1.],\n",
       "        [1., 1., 1., 1., 1.]],\n",
       "\n",
       "       [[1., 1., 1., 1., 1.],\n",
       "        [1., 1., 1., 1., 1.],\n",
       "        [1., 1., 1., 1., 1.]]])"
      ]
     },
     "execution_count": 230,
     "metadata": {},
     "output_type": "execute_result"
    }
   ],
   "source": [
    "# your code here\n",
    "\n",
    "c = b.reshape(2,3,5)\n",
    "\n",
    "c"
   ]
  },
  {
   "cell_type": "markdown",
   "metadata": {},
   "source": [
    "#### 10. Try to add *a* and *c*. Now it should work. Assign the sum to variable *d*. But why does it work now?"
   ]
  },
  {
   "cell_type": "code",
   "execution_count": 231,
   "metadata": {},
   "outputs": [
    {
     "data": {
      "text/plain": [
       "array([[[1.41876436, 1.50796352, 1.09184613, 1.1873685 , 1.86928603],\n",
       "        [1.36370655, 1.38415284, 1.45521715, 1.59166781, 1.53998157],\n",
       "        [1.80222552, 1.83877377, 1.62894386, 1.85594842, 1.8164326 ]],\n",
       "\n",
       "       [[1.39004479, 1.99228163, 1.66821821, 1.56523042, 1.70132764],\n",
       "        [1.79197178, 1.84908722, 1.53799334, 1.71713838, 1.48474854],\n",
       "        [1.75350211, 1.69879525, 1.52404209, 1.43449284, 1.12822115]]])"
      ]
     },
     "execution_count": 231,
     "metadata": {},
     "output_type": "execute_result"
    }
   ],
   "source": [
    "# your code/answer here\n",
    "\n",
    "d = np.add(a,c)\n",
    "\n",
    "d\n",
    "\n",
    "#They work because a and c have the same shape."
   ]
  },
  {
   "cell_type": "markdown",
   "metadata": {},
   "source": [
    "#### 11. Print *a* and *d*. Notice the difference and relation of the two array in terms of the values? Explain."
   ]
  },
  {
   "cell_type": "code",
   "execution_count": 232,
   "metadata": {},
   "outputs": [
    {
     "name": "stdout",
     "output_type": "stream",
     "text": [
      "[[[0.41876436 0.50796352 0.09184613 0.1873685  0.86928603]\n",
      "  [0.36370655 0.38415284 0.45521715 0.59166781 0.53998157]\n",
      "  [0.80222552 0.83877377 0.62894386 0.85594842 0.8164326 ]]\n",
      "\n",
      " [[0.39004479 0.99228163 0.66821821 0.56523042 0.70132764]\n",
      "  [0.79197178 0.84908722 0.53799334 0.71713838 0.48474854]\n",
      "  [0.75350211 0.69879525 0.52404209 0.43449284 0.12822115]]]\n",
      "[[[1.41876436 1.50796352 1.09184613 1.1873685  1.86928603]\n",
      "  [1.36370655 1.38415284 1.45521715 1.59166781 1.53998157]\n",
      "  [1.80222552 1.83877377 1.62894386 1.85594842 1.8164326 ]]\n",
      "\n",
      " [[1.39004479 1.99228163 1.66821821 1.56523042 1.70132764]\n",
      "  [1.79197178 1.84908722 1.53799334 1.71713838 1.48474854]\n",
      "  [1.75350211 1.69879525 1.52404209 1.43449284 1.12822115]]]\n"
     ]
    },
    {
     "data": {
      "text/plain": [
       "array([[[1., 1., 1., 1., 1.],\n",
       "        [1., 1., 1., 1., 1.],\n",
       "        [1., 1., 1., 1., 1.]],\n",
       "\n",
       "       [[1., 1., 1., 1., 1.],\n",
       "        [1., 1., 1., 1., 1.],\n",
       "        [1., 1., 1., 1., 1.]]])"
      ]
     },
     "execution_count": 232,
     "metadata": {},
     "output_type": "execute_result"
    }
   ],
   "source": [
    "# your code/answer here\n",
    "\n",
    "print(a)\n",
    "print(d)\n",
    "\n",
    "d - a \n",
    "\n",
    "# We have added the values of a into the first value of d. \n",
    "# The difference is 1.\n"
   ]
  },
  {
   "cell_type": "markdown",
   "metadata": {},
   "source": [
    "#### 12. Multiply *a* and *c*. Assign the result to *e*."
   ]
  },
  {
   "cell_type": "code",
   "execution_count": 233,
   "metadata": {},
   "outputs": [
    {
     "data": {
      "text/plain": [
       "array([[[0.41876436, 0.50796352, 0.09184613, 0.1873685 , 0.86928603],\n",
       "        [0.36370655, 0.38415284, 0.45521715, 0.59166781, 0.53998157],\n",
       "        [0.80222552, 0.83877377, 0.62894386, 0.85594842, 0.8164326 ]],\n",
       "\n",
       "       [[0.39004479, 0.99228163, 0.66821821, 0.56523042, 0.70132764],\n",
       "        [0.79197178, 0.84908722, 0.53799334, 0.71713838, 0.48474854],\n",
       "        [0.75350211, 0.69879525, 0.52404209, 0.43449284, 0.12822115]]])"
      ]
     },
     "execution_count": 233,
     "metadata": {},
     "output_type": "execute_result"
    }
   ],
   "source": [
    "# your code here\n",
    "\n",
    "\n",
    "e = a * c\n",
    "\n",
    "e\n"
   ]
  },
  {
   "cell_type": "markdown",
   "metadata": {},
   "source": [
    "#### 13. Does *e* equal to *a*? Why or why not?\n"
   ]
  },
  {
   "cell_type": "code",
   "execution_count": 234,
   "metadata": {},
   "outputs": [
    {
     "name": "stdout",
     "output_type": "stream",
     "text": [
      "[[[0.41876436 0.50796352 0.09184613 0.1873685  0.86928603]\n",
      "  [0.36370655 0.38415284 0.45521715 0.59166781 0.53998157]\n",
      "  [0.80222552 0.83877377 0.62894386 0.85594842 0.8164326 ]]\n",
      "\n",
      " [[0.39004479 0.99228163 0.66821821 0.56523042 0.70132764]\n",
      "  [0.79197178 0.84908722 0.53799334 0.71713838 0.48474854]\n",
      "  [0.75350211 0.69879525 0.52404209 0.43449284 0.12822115]]]\n",
      "[[[0.41876436 0.50796352 0.09184613 0.1873685  0.86928603]\n",
      "  [0.36370655 0.38415284 0.45521715 0.59166781 0.53998157]\n",
      "  [0.80222552 0.83877377 0.62894386 0.85594842 0.8164326 ]]\n",
      "\n",
      " [[0.39004479 0.99228163 0.66821821 0.56523042 0.70132764]\n",
      "  [0.79197178 0.84908722 0.53799334 0.71713838 0.48474854]\n",
      "  [0.75350211 0.69879525 0.52404209 0.43449284 0.12822115]]]\n"
     ]
    }
   ],
   "source": [
    "# your code/answer here\n",
    "    \n",
    "print(a)\n",
    "print(e)\n",
    "\n",
    "# They are equal because when you multiple an array by 1 you got the same array. "
   ]
  },
  {
   "cell_type": "markdown",
   "metadata": {},
   "source": [
    "#### 14. Identify the max, min, and mean values in *d*. Assign those values to variables *d_max*, *d_min* and *d_mean*."
   ]
  },
  {
   "cell_type": "code",
   "execution_count": 235,
   "metadata": {},
   "outputs": [
    {
     "name": "stdout",
     "output_type": "stream",
     "text": [
      "[[[1.41876436 1.50796352 1.09184613 1.1873685  1.86928603]\n",
      "  [1.36370655 1.38415284 1.45521715 1.59166781 1.53998157]\n",
      "  [1.80222552 1.83877377 1.62894386 1.85594842 1.8164326 ]]\n",
      "\n",
      " [[1.39004479 1.99228163 1.66821821 1.56523042 1.70132764]\n",
      "  [1.79197178 1.84908722 1.53799334 1.71713838 1.48474854]\n",
      "  [1.75350211 1.69879525 1.52404209 1.43449284 1.12822115]]]\n",
      "The max value of d is: 1.9922816302409063\n",
      "The min value of d is: 1.091846125538852\n",
      "The mean value of d is: 1.5863124684170922\n"
     ]
    }
   ],
   "source": [
    "# your code here\n",
    "\n",
    "max_value = d.max()\n",
    "min_value = d.min()\n",
    "mean_value = d.mean()\n",
    "\n",
    "print(d)\n",
    "\n",
    "print(f'The max value of d is: {max_value}')\n",
    "print(f'The min value of d is: {min_value}')\n",
    "print(f'The mean value of d is: {mean_value}')\n"
   ]
  },
  {
   "cell_type": "markdown",
   "metadata": {},
   "source": [
    "#### 15. Now we want to label the values in *d*. First create an empty array *f* with the same shape (i.e. 2x3x5) as *d* using `np.empty`.\n"
   ]
  },
  {
   "cell_type": "code",
   "execution_count": 236,
   "metadata": {},
   "outputs": [
    {
     "data": {
      "text/plain": [
       "array([[[1.41876436, 1.50796352, 1.09184613, 1.1873685 , 1.86928603],\n",
       "        [1.36370655, 1.38415284, 1.45521715, 1.59166781, 1.53998157],\n",
       "        [1.80222552, 1.83877377, 1.62894386, 1.85594842, 1.8164326 ]],\n",
       "\n",
       "       [[1.39004479, 1.99228163, 1.66821821, 1.56523042, 1.70132764],\n",
       "        [1.79197178, 1.84908722, 1.53799334, 1.71713838, 1.48474854],\n",
       "        [1.75350211, 1.69879525, 1.52404209, 1.43449284, 1.12822115]]])"
      ]
     },
     "execution_count": 236,
     "metadata": {},
     "output_type": "execute_result"
    }
   ],
   "source": [
    "# your code here\n",
    "\n",
    "f = np.empty([2,3,5]) \n",
    "\n",
    "f"
   ]
  },
  {
   "cell_type": "markdown",
   "metadata": {},
   "source": [
    "#### 16. Populate the values in *f*. \n",
    "\n",
    "For each value in *d*, if it's larger than *d_min* but smaller than *d_mean*, assign 25 to the corresponding value in *f*. If a value in *d* is larger than *d_mean* but smaller than *d_max*, assign 75 to the corresponding value in *f*. If a value equals to *d_mean*, assign 50 to the corresponding value in *f*. Assign 0 to the corresponding value(s) in *f* for *d_min* in *d*. Assign 100 to the corresponding value(s) in *f* for *d_max* in *d*. In the end, f should have only the following values: 0, 25, 50, 75, and 100.\n",
    "\n",
    "**Note**: you don't have to use Numpy in this question."
   ]
  },
  {
   "cell_type": "code",
   "execution_count": 318,
   "metadata": {},
   "outputs": [
    {
     "ename": "ValueError",
     "evalue": "The truth value of an array with more than one element is ambiguous. Use a.any() or a.all()",
     "output_type": "error",
     "traceback": [
      "\u001b[0;31m---------------------------------------------------------------------------\u001b[0m",
      "\u001b[0;31mValueError\u001b[0m                                Traceback (most recent call last)",
      "\u001b[0;32m<ipython-input-318-7f39a153af25>\u001b[0m in \u001b[0;36m<module>\u001b[0;34m\u001b[0m\n\u001b[1;32m      6\u001b[0m \u001b[0;34m\u001b[0m\u001b[0m\n\u001b[1;32m      7\u001b[0m \u001b[0;34m\u001b[0m\u001b[0m\n\u001b[0;32m----> 8\u001b[0;31m \u001b[0mtest\u001b[0m \u001b[0;34m=\u001b[0m \u001b[0mlist\u001b[0m\u001b[0;34m(\u001b[0m\u001b[0mmap\u001b[0m\u001b[0;34m(\u001b[0m\u001b[0;32mlambda\u001b[0m \u001b[0mx\u001b[0m\u001b[0;34m,\u001b[0m \u001b[0my\u001b[0m\u001b[0;34m:\u001b[0m \u001b[0my\u001b[0m\u001b[0;34m.\u001b[0m\u001b[0many\u001b[0m \u001b[0;34m==\u001b[0m \u001b[0;36m25\u001b[0m \u001b[0;32mif\u001b[0m \u001b[0;34m(\u001b[0m\u001b[0mx\u001b[0m \u001b[0;34m>\u001b[0m \u001b[0mmin_value\u001b[0m \u001b[0;32mand\u001b[0m \u001b[0mx\u001b[0m \u001b[0;34m<\u001b[0m \u001b[0mmean_value\u001b[0m\u001b[0;34m)\u001b[0m \u001b[0;32melse\u001b[0m \u001b[0;32mNone\u001b[0m\u001b[0;34m,\u001b[0m \u001b[0mn\u001b[0m\u001b[0;34m,\u001b[0m\u001b[0mh\u001b[0m\u001b[0;34m)\u001b[0m\u001b[0;34m)\u001b[0m\u001b[0;34m\u001b[0m\u001b[0;34m\u001b[0m\u001b[0m\n\u001b[0m\u001b[1;32m      9\u001b[0m \u001b[0;34m\u001b[0m\u001b[0m\n\u001b[1;32m     10\u001b[0m \u001b[0;31m#test = lambda x : True if (x > 10 and x < 20) else False\u001b[0m\u001b[0;34m\u001b[0m\u001b[0;34m\u001b[0m\u001b[0;34m\u001b[0m\u001b[0m\n",
      "\u001b[0;32m<ipython-input-318-7f39a153af25>\u001b[0m in \u001b[0;36m<lambda>\u001b[0;34m(x, y)\u001b[0m\n\u001b[1;32m      6\u001b[0m \u001b[0;34m\u001b[0m\u001b[0m\n\u001b[1;32m      7\u001b[0m \u001b[0;34m\u001b[0m\u001b[0m\n\u001b[0;32m----> 8\u001b[0;31m \u001b[0mtest\u001b[0m \u001b[0;34m=\u001b[0m \u001b[0mlist\u001b[0m\u001b[0;34m(\u001b[0m\u001b[0mmap\u001b[0m\u001b[0;34m(\u001b[0m\u001b[0;32mlambda\u001b[0m \u001b[0mx\u001b[0m\u001b[0;34m,\u001b[0m \u001b[0my\u001b[0m\u001b[0;34m:\u001b[0m \u001b[0my\u001b[0m\u001b[0;34m.\u001b[0m\u001b[0many\u001b[0m \u001b[0;34m==\u001b[0m \u001b[0;36m25\u001b[0m \u001b[0;32mif\u001b[0m \u001b[0;34m(\u001b[0m\u001b[0mx\u001b[0m \u001b[0;34m>\u001b[0m \u001b[0mmin_value\u001b[0m \u001b[0;32mand\u001b[0m \u001b[0mx\u001b[0m \u001b[0;34m<\u001b[0m \u001b[0mmean_value\u001b[0m\u001b[0;34m)\u001b[0m \u001b[0;32melse\u001b[0m \u001b[0;32mNone\u001b[0m\u001b[0;34m,\u001b[0m \u001b[0mn\u001b[0m\u001b[0;34m,\u001b[0m\u001b[0mh\u001b[0m\u001b[0;34m)\u001b[0m\u001b[0;34m)\u001b[0m\u001b[0;34m\u001b[0m\u001b[0;34m\u001b[0m\u001b[0m\n\u001b[0m\u001b[1;32m      9\u001b[0m \u001b[0;34m\u001b[0m\u001b[0m\n\u001b[1;32m     10\u001b[0m \u001b[0;31m#test = lambda x : True if (x > 10 and x < 20) else False\u001b[0m\u001b[0;34m\u001b[0m\u001b[0;34m\u001b[0m\u001b[0;34m\u001b[0m\u001b[0m\n",
      "\u001b[0;31mValueError\u001b[0m: The truth value of an array with more than one element is ambiguous. Use a.any() or a.all()"
     ]
    }
   ],
   "source": [
    "# your code here\n",
    "\n",
    "n = list(d)\n",
    "h = list(f)\n",
    "\n",
    "\n",
    "\n",
    "test = list(map(lambda x, y: y = 25 if (x > min_value and x < mean_value) else None, n,h))\n",
    "\n",
    "#test = lambda x : True if (x > 10 and x < 20) else False       \n",
    "\n",
    "# map(lambda x: 'lower' if x<3 else 'higher', lst)\n",
    "\n",
    "\n",
    "print(test)\n"
   ]
  },
  {
   "cell_type": "code",
   "execution_count": null,
   "metadata": {},
   "outputs": [],
   "source": [
    "#   if (z > min_value) & (z < mean_value):\n",
    "            n == 25\n",
    "    \n",
    "if (d[x] > min_value) and (d[x] < mean_value):\n",
    "            f[y] = 25\n",
    "\n",
    "if d > min_valu d and d < mean_value:\n",
    "            \n",
    "            \n",
    "            \n",
    "            \n",
    "#            if d([element_1, element_2, element_3] > mean_value) and d([element_1, element_2, element_3] < max_value):\n",
    "#                f([element_1, element_2, element_3]) = 75\n",
    "#            if element_3 == mean_value: \n",
    "#                element == 50\n",
    "#            if element_3 == min_value:\n",
    "#                element == 0\n",
    "#            if element_3 == max_value:\n",
    "                         \n",
    "                           "
   ]
  },
  {
   "cell_type": "markdown",
   "metadata": {},
   "source": [
    "#### 17. Print *d* and *f*. Do you have your expected *f*?\n",
    "For instance, if your *d* is:\n",
    "```python\n",
    "[[[1.85836099, 1.67064465, 1.62576044, 1.40243961, 1.88454931],\n",
    "[1.75354326, 1.69403643, 1.36729252, 1.61415071, 1.12104981],\n",
    "[1.72201435, 1.1862918 , 1.87078449, 1.7726778 , 1.88180042]],\n",
    "[[1.44747908, 1.31673383, 1.02000951, 1.52218947, 1.97066381],\n",
    "[1.79129243, 1.74983003, 1.96028037, 1.85166831, 1.65450881],\n",
    "[1.18068344, 1.9587381 , 1.00656599, 1.93402165, 1.73514584]]]\n",
    "```\n",
    "Your *f* should be:\n",
    "```python\n",
    "[[[ 75.,  75.,  75.,  25.,  75.],\n",
    "[ 75.,  75.,  25.,  25.,  25.],\n",
    "[ 75.,  25.,  75.,  75.,  75.]],\n",
    "[[ 25.,  25.,  25.,  25., 100.],\n",
    "[ 75.,  75.,  75.,  75.,  75.],\n",
    "[ 25.,  75.,   0.,  75.,  75.]]]\n",
    "```"
   ]
  },
  {
   "cell_type": "code",
   "execution_count": null,
   "metadata": {},
   "outputs": [],
   "source": [
    "# your code here\n",
    "\n",
    "sdaf\n",
    "asdf\n",
    "asdf\n",
    "sdf"
   ]
  },
  {
   "cell_type": "markdown",
   "metadata": {},
   "source": [
    "#### 18. Bonus question: instead of using numbers (i.e. 0, 25, 50, 75, and 100), use string values  (\"A\", \"B\", \"C\", \"D\", and \"E\") to label the array elements. For the example above, the expected result is:\n",
    "\n",
    "```python\n",
    "[[[ 'D',  'D',  'D',  'B',  'D'],\n",
    "[ 'D',  'D',  'B',  'B',  'B'],\n",
    "[ 'D',  'B',  'D',  'D',  'D']],\n",
    "[[ 'B',  'B',  'B',  'B',  'E'],\n",
    "[ 'D',  'D',  'D',  'D',  'D'],\n",
    "[ 'B',  'D',   'A',  'D', 'D']]]\n",
    "```\n",
    "**Note**: you don't have to use Numpy in this question."
   ]
  },
  {
   "cell_type": "code",
   "execution_count": null,
   "metadata": {},
   "outputs": [],
   "source": [
    "# your code here"
   ]
  }
 ],
 "metadata": {
  "kernelspec": {
   "display_name": "Python [conda env:ironhack_env]",
   "language": "python",
   "name": "conda-env-ironhack_env-py"
  },
  "language_info": {
   "codemirror_mode": {
    "name": "ipython",
    "version": 3
   },
   "file_extension": ".py",
   "mimetype": "text/x-python",
   "name": "python",
   "nbconvert_exporter": "python",
   "pygments_lexer": "ipython3",
   "version": "3.8.6"
  }
 },
 "nbformat": 4,
 "nbformat_minor": 2
}
